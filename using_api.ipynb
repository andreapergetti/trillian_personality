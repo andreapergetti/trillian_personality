{
 "cells": [
  {
   "cell_type": "markdown",
   "id": "sonic-receptor",
   "metadata": {},
   "source": [
    "# Uso delle API\n",
    "\n",
    "\n"
   ]
  },
  {
   "cell_type": "markdown",
   "id": "massive-whale",
   "metadata": {},
   "source": [
    "Importare le librerie necessarie"
   ]
  },
  {
   "cell_type": "code",
   "execution_count": 5,
   "id": "corrected-reading",
   "metadata": {},
   "outputs": [],
   "source": [
    "import grpc\n",
    "import trillian_admin_api_pb2_grpc\n",
    "import trillian_admin_api_pb2\n",
    "import crypto.keyspb.keyspb_pb2\n",
    "from google.protobuf import duration_pb2\n",
    "import trillian_log_api_pb2_grpc\n",
    "import trillian_log_api_pb2"
   ]
  },
  {
   "cell_type": "markdown",
   "id": "entitled-narrow",
   "metadata": {},
   "source": [
    "Si apre il collegamento con il server e si inizializzano i servizi per mandare le richieste"
   ]
  },
  {
   "cell_type": "code",
   "execution_count": null,
   "id": "objective-saturday",
   "metadata": {},
   "outputs": [],
   "source": [
    "channel = grpc.insecure_channel('localhost:8090')\n",
    "stub = trillian_admin_api_pb2_grpc.TrillianAdminStub(channel)\n",
    "stub2 = trillian_log_api_pb2_grpc.TrillianLogStub(channel)"
   ]
  },
  {
   "cell_type": "markdown",
   "id": "running-surgery",
   "metadata": {},
   "source": [
    "### Log mode"
   ]
  },
  {
   "cell_type": "markdown",
   "id": "romance-surveillance",
   "metadata": {},
   "source": [
    "CREATE TREE REQUEST"
   ]
  },
  {
   "cell_type": "code",
   "execution_count": null,
   "id": "confident-graph",
   "metadata": {},
   "outputs": [],
   "source": [
    "time=duration_pb2.Duration(seconds=3600)\n",
    "response = stub.CreateTree(trillian_admin_api_pb2. \\\n",
    "CreateTreeRequest(tree={\"tree_state\":'ACTIVE',\"tree_type\":'LOG', \\\n",
    "\"hash_strategy\":'RFC6962_SHA256', \"hash_algorithm\":'SHA256', \\\n",
    "\"signature_algorithm\":'ECDSA', \"display_name\":'', \\\n",
    "\"description\":'',\"max_root_duration\":time}, \\\n",
    "key_spec=crypto.keyspb.keyspb_pb2.Specification \\\n",
    "(ecdsa_params={\"curve\":'P256'})))\n",
    "\n",
    "print(response)"
   ]
  },
  {
   "cell_type": "markdown",
   "id": "happy-carpet",
   "metadata": {},
   "source": [
    "GET TREE REQUEST"
   ]
  },
  {
   "cell_type": "code",
   "execution_count": null,
   "id": "cleared-slovenia",
   "metadata": {},
   "outputs": [],
   "source": [
    "response = stub.GetTree(trillian_admin_api_pb2.GetTreeRequest( \\\n",
    "tree_id=5615147733666263580))\n",
    "\n",
    "print(response)"
   ]
  },
  {
   "cell_type": "markdown",
   "id": "congressional-object",
   "metadata": {},
   "source": [
    "INITLOG TO INITIALIZE THE TREE(create the initial signed log root)"
   ]
  },
  {
   "cell_type": "code",
   "execution_count": null,
   "id": "sought-broadcasting",
   "metadata": {},
   "outputs": [],
   "source": [
    "response = stub2.InitLog(trillian_log_api_pb2. \\\n",
    "InitLogRequest(log_id=4102913998059332149, \\\n",
    "charge_to=trillian_log_api_pb2.ChargeTo(user='test')))\n",
    "\n",
    "print(response)"
   ]
  },
  {
   "cell_type": "markdown",
   "id": "surrounded-colon",
   "metadata": {},
   "source": [
    "QUEUE LEAF REQUEST"
   ]
  },
  {
   "cell_type": "code",
   "execution_count": null,
   "id": "stylish-frontier",
   "metadata": {},
   "outputs": [],
   "source": [
    "response = stub2.QueueLeaf(trillian_log_api_pb2. \\\n",
    "QueueLeafRequest(log_id=5615147733666263580, \\\n",
    "leaf={'leaf_value':b\"Leaf 6666\",'extra_data':b\"Leaf 6666\"}))\n",
    "\n",
    "print(response)"
   ]
  },
  {
   "cell_type": "markdown",
   "id": "affiliated-covering",
   "metadata": {},
   "source": [
    "GET LEAVES BY HASH REQUEST"
   ]
  },
  {
   "cell_type": "code",
   "execution_count": null,
   "id": "hydraulic-capability",
   "metadata": {},
   "outputs": [],
   "source": [
    "hash='0044CB021E158CC1F963FFB5FA66886C01704980AC4B822B1F898A9E0287B227'\n",
    "hash=bytes.fromhex(hash)\n",
    "response = stub2.GetLeavesByHash(trillian_log_api_pb2. \\\n",
    "GetLeavesByHashRequest(log_id=5615147733666263580,leaf_hash=(hash,)))\n",
    "\n",
    "print(response)"
   ]
  },
  {
   "cell_type": "markdown",
   "id": "thermal-spring",
   "metadata": {},
   "source": [
    "GET INCLUSION PROOF BY HASH REQUEST"
   ]
  },
  {
   "cell_type": "code",
   "execution_count": null,
   "id": "continuing-transition",
   "metadata": {},
   "outputs": [],
   "source": [
    "hash='04F8AF0D935AB88130944DF0BBEA6BE727A2F2A23D61AB5A04FAC5F3443CAFA3'\n",
    "hash=bytes.fromhex(hash)\n",
    "response = stub2.GetInclusionProofByHash(trillian_log_api_pb2. \\\n",
    "GetInclusionProofByHashRequest(log_id=5615147733666263580, \n",
    "leaf_hash=bytes.fromhex(hash), tree_size=1001))\n",
    "\n",
    "print(response)"
   ]
  },
  {
   "cell_type": "markdown",
   "id": "utility-trash",
   "metadata": {},
   "source": [
    "GET ENTRY AND PROOF REQUEST"
   ]
  },
  {
   "cell_type": "code",
   "execution_count": null,
   "id": "representative-theorem",
   "metadata": {},
   "outputs": [],
   "source": [
    "response = stub2.GetEntryAndProof(trillian_log_api_pb2. \\\\\n",
    "GetEntryAndProofRequest(log_id=5615147733666263580,\n",
    "leaf_index=1,tree_size=2))\n",
    "\n",
    "print(response)"
   ]
  },
  {
   "cell_type": "markdown",
   "id": "emotional-scale",
   "metadata": {},
   "source": [
    "### Pre-ordered log\n",
    "\n"
   ]
  },
  {
   "cell_type": "markdown",
   "id": "documentary-aspect",
   "metadata": {},
   "source": [
    "CREATE PREORDERED LOG TREE"
   ]
  },
  {
   "cell_type": "code",
   "execution_count": null,
   "id": "rubber-roulette",
   "metadata": {},
   "outputs": [],
   "source": [
    "time=duration_pb2.Duration(seconds=3600)\n",
    "response = stub.CreateTree(trillian_admin_api_pb2. \\\n",
    "CreateTreeRequest(tree={\"tree_state\":'ACTIVE',\"tree_type\":'LOG', \\\n",
    "\"hash_strategy\":'RFC6962_SHA256', \"hash_algorithm\":'SHA256', \\\n",
    "\"signature_algorithm\":'ECDSA', \"display_name\":'', \\\n",
    "\"description\":'',\"max_root_duration\":time}, \\\n",
    "key_spec=crypto.keyspb.keyspb_pb2.Specification \\\n",
    "(ecdsa_params={\"curve\":'P256'})))\n",
    "\n",
    "print(response)"
   ]
  },
  {
   "cell_type": "markdown",
   "id": "fleet-treat",
   "metadata": {},
   "source": [
    "INITLOG TO INITIALIZE THE TREE(create the initial signed log root)"
   ]
  },
  {
   "cell_type": "code",
   "execution_count": null,
   "id": "faced-volleyball",
   "metadata": {},
   "outputs": [],
   "source": [
    "response = stub2.InitLog(trillian_log_api_pb2. \\\n",
    "InitLogRequest(log_id=4102913998059332149, \\\n",
    "charge_to=trillian_log_api_pb2.ChargeTo(user='test')))\n",
    "\n",
    "print(response)"
   ]
  },
  {
   "cell_type": "markdown",
   "id": "proprietary-coffee",
   "metadata": {},
   "source": [
    "CREATE LEAF 1"
   ]
  },
  {
   "cell_type": "code",
   "execution_count": null,
   "id": "portuguese-jamaica",
   "metadata": {},
   "outputs": [],
   "source": [
    "response = stub2.AddSequencedLeaf(trillian_log_api_pb2. \\\n",
    "AddSequencedLeafRequest(log_id=4102913998059332149, \\\n",
    "leaf={'leaf_value':b\"Leaf 1\",'extra_data':b\"Leaf 1\", 'leaf_index':0}, \\\n",
    "charge_to=trillian_log_api_pb2.ChargeTo(user='test')))\n",
    "\n",
    "print(response)"
   ]
  },
  {
   "cell_type": "markdown",
   "id": "printable-developer",
   "metadata": {},
   "source": [
    "CREATE LEAF 2"
   ]
  },
  {
   "cell_type": "code",
   "execution_count": null,
   "id": "medical-simple",
   "metadata": {},
   "outputs": [],
   "source": [
    "response = stub2.AddSequencedLeaf(trillian_log_api_pb2. \\\n",
    "AddSequencedLeafRequest(log_id=4102913998059332149, \\\n",
    "leaf={'leaf_value':b\"Leaf 2\",'extra_data':b\"Leaf 2\",'leaf_index':1}, \\\n",
    "charge_to=trillian_log_api_pb2.ChargeTo(user='test')))\n",
    "\n",
    "print(response)"
   ]
  }
 ],
 "metadata": {
  "kernelspec": {
   "display_name": "Python 3",
   "language": "python",
   "name": "python3"
  },
  "language_info": {
   "codemirror_mode": {
    "name": "ipython",
    "version": 3
   },
   "file_extension": ".py",
   "mimetype": "text/x-python",
   "name": "python",
   "nbconvert_exporter": "python",
   "pygments_lexer": "ipython3",
   "version": "3.8.5"
  }
 },
 "nbformat": 4,
 "nbformat_minor": 5
}
